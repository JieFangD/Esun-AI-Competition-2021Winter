{
 "cells": [
  {
   "cell_type": "code",
   "execution_count": 1,
   "id": "7b9618e7",
   "metadata": {},
   "outputs": [],
   "source": [
    "import numpy as np\n",
    "import pandas as pd\n",
    "import csv\n",
    "import random\n",
    "import time"
   ]
  },
  {
   "cell_type": "code",
   "execution_count": 2,
   "id": "97952942",
   "metadata": {},
   "outputs": [
    {
     "name": "stdout",
     "output_type": "stream",
     "text": [
      "Result/720731_725963.npy\n",
      "Result/720457_726013.npy\n",
      "Result/721634_726232.npy\n",
      "Result/720371_725954.npy\n",
      "Result/720535_725965.npy\n",
      "Result/722000_725978.npy\n",
      "Result/719896_725950.npy\n",
      "Result/719379_725694.npy\n",
      "Result/720371_725945.npy\n",
      "Result/721039_726204.npy\n",
      "Result/721783_726055.npy\n",
      "Result/721059_725747.npy\n",
      "Result/722207_726029.npy\n",
      "Result/721585_725761.npy\n",
      "Result/722347_726054.npy\n",
      "Result/718505_725582.npy\n",
      "Result/718976_725637.npy\n",
      "Result/721876_726245.npy\n",
      "Result/719311_725561.npy\n",
      "Result/722347_726055.npy\n",
      "Result/723057_726042.npy\n",
      "Result/719128_725717.npy\n",
      "Result/722633_726314.npy\n",
      "Result/719918_726115.npy\n",
      "Result/721212_725972.npy\n",
      "Result/719433_725935.npy\n",
      "Result/721929_725600.npy\n",
      "Result/722112_726196.npy\n",
      "Result/718206_725579.npy\n"
     ]
    }
   ],
   "source": [
    "import glob\n",
    "file_list = []\n",
    "score_list = []\n",
    "f = glob.glob('Result/*.npy')\n",
    "for _f in f:\n",
    "    split_f = _f.split('/')[1]\n",
    "    split_f = split_f.split('_')\n",
    "    if len(split_f) == 2:\n",
    "        s = split_f[1].split('.')[0]\n",
    "        if int(s) > 725500:\n",
    "#             print(s)\n",
    "            print(_f)\n",
    "            file_list.append(_f)\n",
    "            score_list.append(int(s))"
   ]
  },
  {
   "cell_type": "code",
   "execution_count": 3,
   "id": "04b7d1a0",
   "metadata": {},
   "outputs": [],
   "source": [
    "score = np.zeros((500000, 16))\n",
    "for i in range(len(file_list)):\n",
    "    pred = np.load(file_list[i])\n",
    "    w = score_list[i]\n",
    "    if np.sum(pred[0]) > 1.1:\n",
    "        print(i)\n",
    "    score += pred*w"
   ]
  },
  {
   "cell_type": "code",
   "execution_count": 4,
   "id": "751d6d13",
   "metadata": {},
   "outputs": [],
   "source": [
    "norm_pred = score/np.sum(score,1,keepdims=True)"
   ]
  },
  {
   "cell_type": "code",
   "execution_count": 5,
   "id": "f1c2ab4e",
   "metadata": {},
   "outputs": [],
   "source": [
    "predictable_classes = np.array([2,6,10,12,13,15,18,19,21,22,25,26,36,37,39,48])\n",
    "\n",
    "top_3_ind = score.argsort(axis=1)[:,-3:][:,::-1]\n",
    "top_3_tags = predictable_classes[top_3_ind]"
   ]
  },
  {
   "cell_type": "code",
   "execution_count": 6,
   "id": "f1914e9b",
   "metadata": {},
   "outputs": [
    {
     "data": {
      "text/plain": [
       "array([[10, 12, 48],\n",
       "       [48, 37, 12],\n",
       "       [37, 22, 10],\n",
       "       ...,\n",
       "       [36, 48, 25],\n",
       "       [10, 39, 19],\n",
       "       [22, 25, 37]])"
      ]
     },
     "execution_count": 6,
     "metadata": {},
     "output_type": "execute_result"
    }
   ],
   "source": [
    "top_3_tags"
   ]
  },
  {
   "cell_type": "code",
   "execution_count": 7,
   "id": "47daf92e",
   "metadata": {},
   "outputs": [],
   "source": [
    "def write_results(top_3_tags_all, fn):\n",
    "    with open(fn, mode='w', newline='') as submit_file: # mode w:write \n",
    "        csv_writer = csv.writer(submit_file)\n",
    "        header = ['chid', 'top1', 'top2', 'top3']\n",
    "        csv_writer.writerow(header)\n",
    "        for ID in range(len(top_3_tags_all)):\n",
    "            row = [10000000+ID, top_3_tags_all[ID][0], top_3_tags_all[ID][1], top_3_tags_all[ID][2]]\n",
    "            csv_writer.writerow(row)"
   ]
  },
  {
   "cell_type": "code",
   "execution_count": 8,
   "id": "ba8c7723",
   "metadata": {},
   "outputs": [],
   "source": [
    "write_results(top_3_tags, 'Result/ensemble.csv')"
   ]
  }
 ],
 "metadata": {
  "kernelspec": {
   "display_name": "Python 3 (ipykernel)",
   "language": "python",
   "name": "python3"
  },
  "language_info": {
   "codemirror_mode": {
    "name": "ipython",
    "version": 3
   },
   "file_extension": ".py",
   "mimetype": "text/x-python",
   "name": "python",
   "nbconvert_exporter": "python",
   "pygments_lexer": "ipython3",
   "version": "3.8.5"
  }
 },
 "nbformat": 4,
 "nbformat_minor": 5
}
